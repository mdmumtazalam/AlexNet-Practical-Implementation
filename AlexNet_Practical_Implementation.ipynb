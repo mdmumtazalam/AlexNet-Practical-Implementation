{
  "nbformat": 4,
  "nbformat_minor": 0,
  "metadata": {
    "colab": {
      "provenance": []
    },
    "kernelspec": {
      "name": "python3",
      "display_name": "Python 3"
    },
    "language_info": {
      "name": "python"
    },
    "accelerator": "GPU",
    "gpuClass": "standard"
  },
  "cells": [
    {
      "cell_type": "markdown",
      "source": [
        "#AlextNet"
      ],
      "metadata": {
        "id": "C-Jj8s8hyUzQ"
      }
    },
    {
      "cell_type": "code",
      "source": [
        "import tensorflow as tf\n",
        "from tensorflow import keras\n",
        "import keras\n",
        "from keras.models import Sequential\n",
        "from keras.layers import Dense, Activation, Dropout, Flatten, Conv2D, MaxPooling2D\n",
        "from tensorflow.keras.layers import BatchNormalization"
      ],
      "metadata": {
        "id": "esm3vi6vyYDI"
      },
      "execution_count": 1,
      "outputs": []
    },
    {
      "cell_type": "code",
      "source": [
        "!pip install tflearn "
      ],
      "metadata": {
        "colab": {
          "base_uri": "https://localhost:8080/"
        },
        "id": "O9vWlTt4ylUV",
        "outputId": "e7324d69-5b16-42af-a664-3da246d811e3"
      },
      "execution_count": 2,
      "outputs": [
        {
          "output_type": "stream",
          "name": "stdout",
          "text": [
            "Looking in indexes: https://pypi.org/simple, https://us-python.pkg.dev/colab-wheels/public/simple/\n",
            "Collecting tflearn\n",
            "  Downloading tflearn-0.5.0.tar.gz (107 kB)\n",
            "\u001b[2K     \u001b[90m━━━━━━━━━━━━━━━━━━━━━━━━━━━━━━━━━━━━━━━\u001b[0m \u001b[32m107.3/107.3 KB\u001b[0m \u001b[31m8.4 MB/s\u001b[0m eta \u001b[36m0:00:00\u001b[0m\n",
            "\u001b[?25h  Preparing metadata (setup.py) ... \u001b[?25l\u001b[?25hdone\n",
            "Requirement already satisfied: numpy in /usr/local/lib/python3.8/dist-packages (from tflearn) (1.21.6)\n",
            "Requirement already satisfied: six in /usr/local/lib/python3.8/dist-packages (from tflearn) (1.15.0)\n",
            "Requirement already satisfied: Pillow in /usr/local/lib/python3.8/dist-packages (from tflearn) (7.1.2)\n",
            "Building wheels for collected packages: tflearn\n",
            "  Building wheel for tflearn (setup.py) ... \u001b[?25l\u001b[?25hdone\n",
            "  Created wheel for tflearn: filename=tflearn-0.5.0-py3-none-any.whl size=127299 sha256=80d20c2271f7c92af48ab39d05ba09d59d5526fc34dbf1e2e67b0ac6ecb56a3e\n",
            "  Stored in directory: /root/.cache/pip/wheels/65/9b/15/cb1e6b279c14ed897530d15cfd7da8e3df8a947e593f5cfe59\n",
            "Successfully built tflearn\n",
            "Installing collected packages: tflearn\n",
            "Successfully installed tflearn-0.5.0\n"
          ]
        }
      ]
    },
    {
      "cell_type": "code",
      "source": [
        "# Get Data\n",
        "import tflearn.datasets.oxflower17 as oxflower17\n",
        "x, y = oxflower17.load_data(one_hot=True)"
      ],
      "metadata": {
        "colab": {
          "base_uri": "https://localhost:8080/"
        },
        "id": "v5bzMvZOywb2",
        "outputId": "cbd1c19c-cace-4b23-8195-1fe5fce277aa"
      },
      "execution_count": 3,
      "outputs": [
        {
          "output_type": "stream",
          "name": "stderr",
          "text": [
            "WARNING:tensorflow:From /usr/local/lib/python3.8/dist-packages/tensorflow/python/compat/v2_compat.py:107: disable_resource_variables (from tensorflow.python.ops.variable_scope) is deprecated and will be removed in a future version.\n",
            "Instructions for updating:\n",
            "non-resource variables are not supported in the long term\n"
          ]
        },
        {
          "output_type": "stream",
          "name": "stdout",
          "text": [
            "Downloading Oxford 17 category Flower Dataset, Please wait...\n"
          ]
        },
        {
          "output_type": "stream",
          "name": "stderr",
          "text": [
            "100.0% 60276736 / 60270631\n"
          ]
        },
        {
          "output_type": "stream",
          "name": "stdout",
          "text": [
            "Succesfully downloaded 17flowers.tgz 60270631 bytes.\n",
            "File Extracted\n",
            "Starting to parse images...\n",
            "Parsing Done!\n"
          ]
        }
      ]
    },
    {
      "cell_type": "code",
      "source": [
        "x"
      ],
      "metadata": {
        "colab": {
          "base_uri": "https://localhost:8080/"
        },
        "id": "EVffM9eFyzu9",
        "outputId": "c9938df2-f45c-4c47-ac6f-2194a8366061"
      },
      "execution_count": 4,
      "outputs": [
        {
          "output_type": "execute_result",
          "data": {
            "text/plain": [
              "array([[[[0.24313726, 0.15686275, 0.16470589],\n",
              "         [0.24313726, 0.15686275, 0.16470589],\n",
              "         [0.24705882, 0.16078432, 0.16862746],\n",
              "         ...,\n",
              "         [0.08627451, 0.05098039, 0.01960784],\n",
              "         [0.08627451, 0.04705882, 0.00392157],\n",
              "         [0.08627451, 0.05098039, 0.        ]],\n",
              "\n",
              "        [[0.24313726, 0.15686275, 0.16470589],\n",
              "         [0.24313726, 0.15686275, 0.16470589],\n",
              "         [0.24705882, 0.16078432, 0.16862746],\n",
              "         ...,\n",
              "         [0.10980392, 0.06666667, 0.03529412],\n",
              "         [0.11372549, 0.06666667, 0.02745098],\n",
              "         [0.10980392, 0.06666667, 0.02745098]],\n",
              "\n",
              "        [[0.24313726, 0.15686275, 0.16470589],\n",
              "         [0.24313726, 0.15686275, 0.16470589],\n",
              "         [0.24705882, 0.16078432, 0.16862746],\n",
              "         ...,\n",
              "         [0.14901961, 0.09019608, 0.0627451 ],\n",
              "         [0.15294118, 0.09411765, 0.05882353],\n",
              "         [0.14901961, 0.09411765, 0.05882353]],\n",
              "\n",
              "        ...,\n",
              "\n",
              "        [[0.31764707, 0.24313726, 0.1764706 ],\n",
              "         [0.34117648, 0.26666668, 0.2       ],\n",
              "         [0.3529412 , 0.2784314 , 0.21176471],\n",
              "         ...,\n",
              "         [0.06666667, 0.02352941, 0.03921569],\n",
              "         [0.06666667, 0.02352941, 0.03921569],\n",
              "         [0.06666667, 0.02352941, 0.03921569]],\n",
              "\n",
              "        [[0.36862746, 0.29411766, 0.22745098],\n",
              "         [0.3529412 , 0.2784314 , 0.21176471],\n",
              "         [0.3372549 , 0.2627451 , 0.19607843],\n",
              "         ...,\n",
              "         [0.07058824, 0.02745098, 0.04313726],\n",
              "         [0.06666667, 0.02352941, 0.03921569],\n",
              "         [0.06666667, 0.02352941, 0.03921569]],\n",
              "\n",
              "        [[0.4392157 , 0.3647059 , 0.29803923],\n",
              "         [0.40784314, 0.33333334, 0.26666668],\n",
              "         [0.31764707, 0.24313726, 0.1764706 ],\n",
              "         ...,\n",
              "         [0.07843138, 0.03529412, 0.05098039],\n",
              "         [0.07450981, 0.03137255, 0.04705882],\n",
              "         [0.07450981, 0.03137255, 0.04705882]]],\n",
              "\n",
              "\n",
              "       [[[0.16862746, 0.23137255, 0.05098039],\n",
              "         [0.15686275, 0.21568628, 0.04313726],\n",
              "         [0.14509805, 0.20392157, 0.03921569],\n",
              "         ...,\n",
              "         [0.25882354, 0.33333334, 0.01176471],\n",
              "         [0.25490198, 0.33333334, 0.        ],\n",
              "         [0.25882354, 0.3372549 , 0.        ]],\n",
              "\n",
              "        [[0.13333334, 0.19607843, 0.03137255],\n",
              "         [0.1254902 , 0.18431373, 0.02352941],\n",
              "         [0.11764706, 0.18039216, 0.02745098],\n",
              "         ...,\n",
              "         [0.2627451 , 0.3372549 , 0.01960784],\n",
              "         [0.2509804 , 0.32941177, 0.00392157],\n",
              "         [0.2509804 , 0.32941177, 0.        ]],\n",
              "\n",
              "        [[0.12156863, 0.18431373, 0.04313726],\n",
              "         [0.11764706, 0.18039216, 0.03921569],\n",
              "         [0.11372549, 0.17254902, 0.03921569],\n",
              "         ...,\n",
              "         [0.2627451 , 0.33333334, 0.01568628],\n",
              "         [0.25490198, 0.32941177, 0.00784314],\n",
              "         [0.25490198, 0.33333334, 0.        ]],\n",
              "\n",
              "        ...,\n",
              "\n",
              "        [[0.13725491, 0.27450982, 0.01568628],\n",
              "         [0.14117648, 0.2784314 , 0.01960784],\n",
              "         [0.14509805, 0.28235295, 0.02352941],\n",
              "         ...,\n",
              "         [0.09411765, 0.2       , 0.01960784],\n",
              "         [0.09019608, 0.19607843, 0.02352941],\n",
              "         [0.09019608, 0.19607843, 0.03137255]],\n",
              "\n",
              "        [[0.14117648, 0.28235295, 0.03137255],\n",
              "         [0.14509805, 0.28627452, 0.03137255],\n",
              "         [0.14901961, 0.2901961 , 0.03137255],\n",
              "         ...,\n",
              "         [0.09019608, 0.1882353 , 0.02745098],\n",
              "         [0.09019608, 0.1882353 , 0.03137255],\n",
              "         [0.09019608, 0.1882353 , 0.03529412]],\n",
              "\n",
              "        [[0.14117648, 0.28235295, 0.03529412],\n",
              "         [0.14509805, 0.28627452, 0.03529412],\n",
              "         [0.14901961, 0.29411766, 0.03137255],\n",
              "         ...,\n",
              "         [0.09019608, 0.1882353 , 0.03137255],\n",
              "         [0.09019608, 0.1882353 , 0.03529412],\n",
              "         [0.09019608, 0.1882353 , 0.03529412]]],\n",
              "\n",
              "\n",
              "       [[[0.36862746, 0.43137255, 0.24705882],\n",
              "         [0.33333334, 0.39607844, 0.21176471],\n",
              "         [0.34509805, 0.40784314, 0.22352941],\n",
              "         ...,\n",
              "         [0.39215687, 0.5019608 , 0.3372549 ],\n",
              "         [0.3882353 , 0.5019608 , 0.3137255 ],\n",
              "         [0.41568628, 0.5294118 , 0.34117648]],\n",
              "\n",
              "        [[0.36078432, 0.41568628, 0.23529412],\n",
              "         [0.3137255 , 0.36862746, 0.1882353 ],\n",
              "         [0.3254902 , 0.38039216, 0.2       ],\n",
              "         ...,\n",
              "         [0.36862746, 0.4745098 , 0.30980393],\n",
              "         [0.36078432, 0.47058824, 0.28235295],\n",
              "         [0.3882353 , 0.49803922, 0.30980393]],\n",
              "\n",
              "        [[0.3882353 , 0.4392157 , 0.25882354],\n",
              "         [0.32941177, 0.38039216, 0.2       ],\n",
              "         [0.3372549 , 0.3882353 , 0.20784314],\n",
              "         ...,\n",
              "         [0.3647059 , 0.46666667, 0.29803923],\n",
              "         [0.35686275, 0.4627451 , 0.27450982],\n",
              "         [0.3882353 , 0.49411765, 0.30588236]],\n",
              "\n",
              "        ...,\n",
              "\n",
              "        [[0.3254902 , 0.39607844, 0.24705882],\n",
              "         [0.29411766, 0.3647059 , 0.20784314],\n",
              "         [0.29803923, 0.37254903, 0.19215687],\n",
              "         ...,\n",
              "         [0.24313726, 0.3019608 , 0.12941177],\n",
              "         [0.19215687, 0.25882354, 0.09411765],\n",
              "         [0.20392157, 0.27058825, 0.10588235]],\n",
              "\n",
              "        [[0.3372549 , 0.40392157, 0.25882354],\n",
              "         [0.28235295, 0.3529412 , 0.19215687],\n",
              "         [0.28627452, 0.36078432, 0.17254902],\n",
              "         ...,\n",
              "         [0.21568628, 0.28627452, 0.10588235],\n",
              "         [0.20392157, 0.27058825, 0.10588235],\n",
              "         [0.20392157, 0.27450982, 0.10980392]],\n",
              "\n",
              "        [[0.34509805, 0.4117647 , 0.27450982],\n",
              "         [0.29803923, 0.36862746, 0.21176471],\n",
              "         [0.28235295, 0.36078432, 0.16470589],\n",
              "         ...,\n",
              "         [0.23921569, 0.32156864, 0.14509805],\n",
              "         [0.24313726, 0.3137255 , 0.14901961],\n",
              "         [0.23529412, 0.30588236, 0.14117648]]],\n",
              "\n",
              "\n",
              "       ...,\n",
              "\n",
              "\n",
              "       [[[0.5137255 , 0.6039216 , 0.2       ],\n",
              "         [0.5686275 , 0.6627451 , 0.2784314 ],\n",
              "         [0.5372549 , 0.6313726 , 0.27450982],\n",
              "         ...,\n",
              "         [0.1254902 , 0.22352941, 0.09019608],\n",
              "         [0.10196079, 0.2       , 0.07450981],\n",
              "         [0.09019608, 0.1882353 , 0.0627451 ]],\n",
              "\n",
              "        [[0.43137255, 0.5294118 , 0.10980392],\n",
              "         [0.5019608 , 0.6       , 0.20392157],\n",
              "         [0.5686275 , 0.6627451 , 0.2901961 ],\n",
              "         ...,\n",
              "         [0.09411765, 0.19215687, 0.0627451 ],\n",
              "         [0.07843138, 0.1764706 , 0.05098039],\n",
              "         [0.08235294, 0.18039216, 0.05490196]],\n",
              "\n",
              "        [[0.34901962, 0.45490196, 0.01960784],\n",
              "         [0.40392157, 0.50980395, 0.09019608],\n",
              "         [0.5137255 , 0.61960787, 0.22745098],\n",
              "         ...,\n",
              "         [0.07843138, 0.17254902, 0.05098039],\n",
              "         [0.08235294, 0.18039216, 0.05490196],\n",
              "         [0.09019608, 0.1882353 , 0.0627451 ]],\n",
              "\n",
              "        ...,\n",
              "\n",
              "        [[0.24313726, 0.37254903, 0.02352941],\n",
              "         [0.2784314 , 0.40784314, 0.0627451 ],\n",
              "         [0.28235295, 0.4117647 , 0.07058824],\n",
              "         ...,\n",
              "         [0.2       , 0.32156864, 0.01176471],\n",
              "         [0.19607843, 0.32156864, 0.00392157],\n",
              "         [0.21176471, 0.3372549 , 0.01960784]],\n",
              "\n",
              "        [[0.2627451 , 0.3882353 , 0.04705882],\n",
              "         [0.2509804 , 0.3764706 , 0.04313726],\n",
              "         [0.2784314 , 0.40392157, 0.07058824],\n",
              "         ...,\n",
              "         [0.23137255, 0.33333334, 0.03921569],\n",
              "         [0.2509804 , 0.3372549 , 0.04705882],\n",
              "         [0.21176471, 0.3019608 , 0.01176471]],\n",
              "\n",
              "        [[0.25882354, 0.3882353 , 0.05098039],\n",
              "         [0.25882354, 0.38431373, 0.05098039],\n",
              "         [0.2509804 , 0.3764706 , 0.04705882],\n",
              "         ...,\n",
              "         [0.23137255, 0.3254902 , 0.03137255],\n",
              "         [0.23921569, 0.3137255 , 0.03529412],\n",
              "         [0.21176471, 0.2901961 , 0.00784314]]],\n",
              "\n",
              "\n",
              "       [[[0.25882354, 0.5254902 , 0.87058824],\n",
              "         [0.24313726, 0.5058824 , 0.8666667 ],\n",
              "         [0.23921569, 0.5019608 , 0.8784314 ],\n",
              "         ...,\n",
              "         [0.14901961, 0.40784314, 0.7882353 ],\n",
              "         [0.3882353 , 0.5411765 , 0.75686276],\n",
              "         [0.7607843 , 0.89411765, 0.96862745]],\n",
              "\n",
              "        [[0.1882353 , 0.44705883, 0.8392157 ],\n",
              "         [0.16862746, 0.43137255, 0.83137256],\n",
              "         [0.15686275, 0.42745098, 0.83137256],\n",
              "         ...,\n",
              "         [0.13333334, 0.4       , 0.78431374],\n",
              "         [0.37254903, 0.53333336, 0.7490196 ],\n",
              "         [0.7490196 , 0.88235295, 0.9647059 ]],\n",
              "\n",
              "        [[0.21568628, 0.44705883, 0.81960785],\n",
              "         [0.19215687, 0.43529412, 0.80784315],\n",
              "         [0.18431373, 0.44313726, 0.81960785],\n",
              "         ...,\n",
              "         [0.12156863, 0.39215687, 0.78039217],\n",
              "         [0.36078432, 0.5294118 , 0.7529412 ],\n",
              "         [0.7372549 , 0.88235295, 0.9647059 ]],\n",
              "\n",
              "        ...,\n",
              "\n",
              "        [[0.95686275, 0.9882353 , 0.9529412 ],\n",
              "         [0.95686275, 1.        , 0.94509804],\n",
              "         [0.6862745 , 0.80784315, 0.64705884],\n",
              "         ...,\n",
              "         [0.15294118, 0.48235294, 0.9137255 ],\n",
              "         [0.11372549, 0.49411765, 0.94509804],\n",
              "         [0.10196079, 0.49411765, 0.94509804]],\n",
              "\n",
              "        [[0.94509804, 0.96862745, 0.9647059 ],\n",
              "         [0.9647059 , 1.        , 0.9647059 ],\n",
              "         [0.6862745 , 0.80784315, 0.6666667 ],\n",
              "         ...,\n",
              "         [0.2       , 0.49803922, 0.90588236],\n",
              "         [0.21176471, 0.5176471 , 0.90588236],\n",
              "         [0.20392157, 0.5137255 , 0.89411765]],\n",
              "\n",
              "        [[0.9529412 , 0.96862745, 0.9843137 ],\n",
              "         [0.9607843 , 1.        , 0.9764706 ],\n",
              "         [0.7058824 , 0.8235294 , 0.69803923],\n",
              "         ...,\n",
              "         [0.27058825, 0.5058824 , 0.8666667 ],\n",
              "         [0.30588236, 0.5176471 , 0.84705883],\n",
              "         [0.30588236, 0.50980395, 0.83137256]]],\n",
              "\n",
              "\n",
              "       [[[0.36078432, 0.49019608, 0.15294118],\n",
              "         [0.33333334, 0.45882353, 0.14117648],\n",
              "         [0.43137255, 0.5568628 , 0.25882354],\n",
              "         ...,\n",
              "         [0.39607844, 0.5294118 , 0.21568628],\n",
              "         [0.38039216, 0.5137255 , 0.20392157],\n",
              "         [0.32156864, 0.45490196, 0.1254902 ]],\n",
              "\n",
              "        [[0.3529412 , 0.4745098 , 0.15686275],\n",
              "         [0.3372549 , 0.45490196, 0.15686275],\n",
              "         [0.43137255, 0.54901963, 0.27058825],\n",
              "         ...,\n",
              "         [0.38431373, 0.5294118 , 0.21568628],\n",
              "         [0.38431373, 0.5294118 , 0.20784314],\n",
              "         [0.31764707, 0.46666667, 0.12941177]],\n",
              "\n",
              "        [[0.36078432, 0.47058824, 0.1764706 ],\n",
              "         [0.31764707, 0.42745098, 0.14901961],\n",
              "         [0.40784314, 0.52156866, 0.25490198],\n",
              "         ...,\n",
              "         [0.3529412 , 0.5176471 , 0.19215687],\n",
              "         [0.3647059 , 0.5254902 , 0.19215687],\n",
              "         [0.30588236, 0.47058824, 0.1254902 ]],\n",
              "\n",
              "        ...,\n",
              "\n",
              "        [[0.03137255, 0.03921569, 0.03529412],\n",
              "         [0.04705882, 0.05882353, 0.03921569],\n",
              "         [0.08627451, 0.09803922, 0.06666667],\n",
              "         ...,\n",
              "         [0.2509804 , 0.37254903, 0.16862746],\n",
              "         [0.3254902 , 0.4745098 , 0.24705882],\n",
              "         [0.39607844, 0.56078434, 0.31764707]],\n",
              "\n",
              "        [[0.04705882, 0.05098039, 0.05490196],\n",
              "         [0.05882353, 0.06666667, 0.05098039],\n",
              "         [0.08627451, 0.09803922, 0.0627451 ],\n",
              "         ...,\n",
              "         [0.34901962, 0.49019608, 0.2509804 ],\n",
              "         [0.40392157, 0.56078434, 0.2901961 ],\n",
              "         [0.41568628, 0.5803922 , 0.29411766]],\n",
              "\n",
              "        [[0.05098039, 0.05490196, 0.05882353],\n",
              "         [0.05882353, 0.06666667, 0.05490196],\n",
              "         [0.08627451, 0.09411765, 0.0627451 ],\n",
              "         ...,\n",
              "         [0.41960785, 0.5686275 , 0.32156864],\n",
              "         [0.41568628, 0.57254905, 0.29411766],\n",
              "         [0.41960785, 0.58431375, 0.28235295]]]], dtype=float32)"
            ]
          },
          "metadata": {},
          "execution_count": 4
        }
      ]
    },
    {
      "cell_type": "code",
      "source": [
        "y"
      ],
      "metadata": {
        "colab": {
          "base_uri": "https://localhost:8080/"
        },
        "id": "NKFrrJGOy62P",
        "outputId": "11b04e97-a92e-461b-8bb2-e42d24ac5ea3"
      },
      "execution_count": 5,
      "outputs": [
        {
          "output_type": "execute_result",
          "data": {
            "text/plain": [
              "array([[0., 0., 0., ..., 0., 1., 0.],\n",
              "       [0., 0., 0., ..., 0., 0., 0.],\n",
              "       [0., 0., 0., ..., 0., 0., 1.],\n",
              "       ...,\n",
              "       [0., 0., 0., ..., 0., 0., 0.],\n",
              "       [0., 0., 0., ..., 0., 0., 0.],\n",
              "       [0., 0., 1., ..., 0., 0., 0.]])"
            ]
          },
          "metadata": {},
          "execution_count": 5
        }
      ]
    },
    {
      "cell_type": "code",
      "source": [
        "x.shape"
      ],
      "metadata": {
        "colab": {
          "base_uri": "https://localhost:8080/"
        },
        "id": "gVGoWhVZy7cT",
        "outputId": "fa39efb4-d1b7-4258-afc4-5cc2554d1fc9"
      },
      "execution_count": 6,
      "outputs": [
        {
          "output_type": "execute_result",
          "data": {
            "text/plain": [
              "(1360, 224, 224, 3)"
            ]
          },
          "metadata": {},
          "execution_count": 6
        }
      ]
    },
    {
      "cell_type": "code",
      "source": [
        "y.shape"
      ],
      "metadata": {
        "colab": {
          "base_uri": "https://localhost:8080/"
        },
        "id": "qS7xfMM-y9EZ",
        "outputId": "76d383fd-b513-417e-93cc-0393124b1307"
      },
      "execution_count": 7,
      "outputs": [
        {
          "output_type": "execute_result",
          "data": {
            "text/plain": [
              "(1360, 17)"
            ]
          },
          "metadata": {},
          "execution_count": 7
        }
      ]
    },
    {
      "cell_type": "code",
      "source": [
        "# Create a sequential model\n",
        "model = Sequential()\n",
        "\n",
        "# 1st Convolutional Layer\n",
        "model.add(Conv2D(filters=96, input_shape=(224,224,3), kernel_size=(11,11), strides=(4,4), padding='valid'))\n",
        "model.add(Activation('relu'))\n",
        "\n",
        "# Pooling \n",
        "model.add(MaxPooling2D(pool_size=(3,3), strides=(2,2), padding='valid'))\n",
        "# Batch Normalisation before passing it to the next layer\n",
        "model.add(BatchNormalization())\n",
        "\n",
        "# 2nd Convolutional Layer\n",
        "model.add(Conv2D(filters=256, kernel_size=(5,5), strides=(1,1), padding='same'))\n",
        "model.add(Activation('relu'))\n",
        "\n",
        "# Pooling\n",
        "model.add(MaxPooling2D(pool_size=(3,3), strides=(2,2), padding='valid'))\n",
        "# Batch Normalisation\n",
        "model.add(BatchNormalization())\n",
        "\n",
        "\n",
        "\n",
        "# 3rd Convolutional Layer\n",
        "model.add(Conv2D(filters=384, kernel_size=(3,3), strides=(1,1), padding='valid'))\n",
        "model.add(Activation('relu'))\n",
        "# Batch Normalisation\n",
        "model.add(BatchNormalization())\n",
        "\n",
        "# 4th Convolutional Layer\n",
        "model.add(Conv2D(filters=384, kernel_size=(3,3), strides=(1,1), padding='valid'))\n",
        "model.add(Activation('relu'))\n",
        "# Batch Normalisation\n",
        "model.add(BatchNormalization())\n",
        "\n",
        "\n",
        "# 5th Convolutional Layer\n",
        "model.add(Conv2D(filters=256, kernel_size=(3,3), strides=(1,1), padding='valid'))\n",
        "model.add(Activation('relu'))\n",
        "\n",
        "\n",
        "# Pooling\n",
        "model.add(MaxPooling2D(pool_size=(3,3), strides=(2,2), padding='valid'))\n",
        "# Batch Normalisation\n",
        "model.add(BatchNormalization())\n",
        "\n",
        "\n",
        "# Passing it to a dense layer\n",
        "model.add(Flatten())\n",
        "\n",
        "# 1st Dense Layer\n",
        "model.add(Dense(4096, input_shape=(224*224*3,)))\n",
        "model.add(Activation('relu'))\n",
        "# Add Dropout to prevent overfitting\n",
        "model.add(Dropout(0.4))\n",
        "# Batch Normalisation\n",
        "model.add(BatchNormalization())\n",
        "\n",
        "# 2nd Dense Layer\n",
        "model.add(Dense(4096))\n",
        "model.add(Activation('relu'))\n",
        "# Add Dropout\n",
        "model.add(Dropout(0.4))\n",
        "# Batch Normalisation\n",
        "model.add(BatchNormalization())\n",
        "\n",
        "# Output Layer\n",
        "model.add(Dense(17))\n",
        "model.add(Activation('softmax'))\n",
        "\n",
        "model.summary()"
      ],
      "metadata": {
        "colab": {
          "base_uri": "https://localhost:8080/"
        },
        "id": "NXmG40WWy-TM",
        "outputId": "0fe4d48a-a1e7-4d38-ab7d-66bf472010f2"
      },
      "execution_count": 8,
      "outputs": [
        {
          "output_type": "stream",
          "name": "stderr",
          "text": [
            "WARNING:tensorflow:From /usr/local/lib/python3.8/dist-packages/keras/layers/normalization/batch_normalization.py:514: _colocate_with (from tensorflow.python.framework.ops) is deprecated and will be removed in a future version.\n",
            "Instructions for updating:\n",
            "Colocations handled automatically by placer.\n"
          ]
        },
        {
          "output_type": "stream",
          "name": "stdout",
          "text": [
            "Model: \"sequential\"\n",
            "_________________________________________________________________\n",
            " Layer (type)                Output Shape              Param #   \n",
            "=================================================================\n",
            " conv2d (Conv2D)             (None, 54, 54, 96)        34944     \n",
            "                                                                 \n",
            " activation (Activation)     (None, 54, 54, 96)        0         \n",
            "                                                                 \n",
            " max_pooling2d (MaxPooling2D  (None, 26, 26, 96)       0         \n",
            " )                                                               \n",
            "                                                                 \n",
            " batch_normalization (BatchN  (None, 26, 26, 96)       384       \n",
            " ormalization)                                                   \n",
            "                                                                 \n",
            " conv2d_1 (Conv2D)           (None, 26, 26, 256)       614656    \n",
            "                                                                 \n",
            " activation_1 (Activation)   (None, 26, 26, 256)       0         \n",
            "                                                                 \n",
            " max_pooling2d_1 (MaxPooling  (None, 12, 12, 256)      0         \n",
            " 2D)                                                             \n",
            "                                                                 \n",
            " batch_normalization_1 (Batc  (None, 12, 12, 256)      1024      \n",
            " hNormalization)                                                 \n",
            "                                                                 \n",
            " conv2d_2 (Conv2D)           (None, 10, 10, 384)       885120    \n",
            "                                                                 \n",
            " activation_2 (Activation)   (None, 10, 10, 384)       0         \n",
            "                                                                 \n",
            " batch_normalization_2 (Batc  (None, 10, 10, 384)      1536      \n",
            " hNormalization)                                                 \n",
            "                                                                 \n",
            " conv2d_3 (Conv2D)           (None, 8, 8, 384)         1327488   \n",
            "                                                                 \n",
            " activation_3 (Activation)   (None, 8, 8, 384)         0         \n",
            "                                                                 \n",
            " batch_normalization_3 (Batc  (None, 8, 8, 384)        1536      \n",
            " hNormalization)                                                 \n",
            "                                                                 \n",
            " conv2d_4 (Conv2D)           (None, 6, 6, 256)         884992    \n",
            "                                                                 \n",
            " activation_4 (Activation)   (None, 6, 6, 256)         0         \n",
            "                                                                 \n",
            " max_pooling2d_2 (MaxPooling  (None, 2, 2, 256)        0         \n",
            " 2D)                                                             \n",
            "                                                                 \n",
            " batch_normalization_4 (Batc  (None, 2, 2, 256)        1024      \n",
            " hNormalization)                                                 \n",
            "                                                                 \n",
            " flatten (Flatten)           (None, 1024)              0         \n",
            "                                                                 \n",
            " dense (Dense)               (None, 4096)              4198400   \n",
            "                                                                 \n",
            " activation_5 (Activation)   (None, 4096)              0         \n",
            "                                                                 \n",
            " dropout (Dropout)           (None, 4096)              0         \n",
            "                                                                 \n",
            " batch_normalization_5 (Batc  (None, 4096)             16384     \n",
            " hNormalization)                                                 \n",
            "                                                                 \n",
            " dense_1 (Dense)             (None, 4096)              16781312  \n",
            "                                                                 \n",
            " activation_6 (Activation)   (None, 4096)              0         \n",
            "                                                                 \n",
            " dropout_1 (Dropout)         (None, 4096)              0         \n",
            "                                                                 \n",
            " batch_normalization_6 (Batc  (None, 4096)             16384     \n",
            " hNormalization)                                                 \n",
            "                                                                 \n",
            " dense_2 (Dense)             (None, 17)                69649     \n",
            "                                                                 \n",
            " activation_7 (Activation)   (None, 17)                0         \n",
            "                                                                 \n",
            "=================================================================\n",
            "Total params: 24,834,833\n",
            "Trainable params: 24,815,697\n",
            "Non-trainable params: 19,136\n",
            "_________________________________________________________________\n"
          ]
        }
      ]
    },
    {
      "cell_type": "code",
      "source": [
        "# Compile \n",
        "opt = tf.optimizers.Adam(learning_rate = 0.01)\n",
        "model.compile(loss='categorical_crossentropy', optimizer=opt, metrics=['accuracy'])"
      ],
      "metadata": {
        "id": "vJxXhCh1zGrC"
      },
      "execution_count": 9,
      "outputs": []
    },
    {
      "cell_type": "code",
      "source": [
        "# Train\n",
        "model.fit(x, y, batch_size=64, epochs=5, verbose=1,validation_split=0.2, shuffle=True)"
      ],
      "metadata": {
        "colab": {
          "base_uri": "https://localhost:8080/"
        },
        "id": "ui7_ltkwzMmN",
        "outputId": "34552db1-7636-47cf-f7fd-488fb2efdccb"
      },
      "execution_count": 10,
      "outputs": [
        {
          "output_type": "stream",
          "name": "stdout",
          "text": [
            "Train on 1088 samples, validate on 272 samples\n",
            "Epoch 1/5\n",
            "1088/1088 [==============================] - ETA: 0s - loss: 8.6271 - acc: 0.1792"
          ]
        },
        {
          "output_type": "stream",
          "name": "stderr",
          "text": [
            "/usr/local/lib/python3.8/dist-packages/keras/engine/training_v1.py:2045: UserWarning: `Model.state_updates` will be removed in a future version. This property should not be used in TensorFlow 2.0, as `updates` are applied automatically.\n",
            "  updates = self.state_updates\n"
          ]
        },
        {
          "output_type": "stream",
          "name": "stdout",
          "text": [
            "\b\b\b\b\b\b\b\b\b\b\b\b\b\b\b\b\b\b\b\b\b\b\b\b\b\b\b\b\b\b\b\b\b\b\b\b\b\b\b\b\b\b\b\b\b\b\b\b\b\b\b\b\b\b\b\b\b\b\b\b\b\b\b\b\b\b\b\b\b\b\b\b\b\b\b\b\b\b\b\b\b\r1088/1088 [==============================] - 11s 11ms/sample - loss: 8.6271 - acc: 0.1792 - val_loss: 256438.9191 - val_acc: 0.0588\n",
            "Epoch 2/5\n",
            "1088/1088 [==============================] - 2s 1ms/sample - loss: 6.0067 - acc: 0.2215 - val_loss: 14571.3495 - val_acc: 0.0699\n",
            "Epoch 3/5\n",
            "1088/1088 [==============================] - 1s 1ms/sample - loss: 4.7613 - acc: 0.2822 - val_loss: 5698.6426 - val_acc: 0.1250\n",
            "Epoch 4/5\n",
            "1088/1088 [==============================] - 1s 1ms/sample - loss: 4.5637 - acc: 0.2996 - val_loss: 1666.3953 - val_acc: 0.0588\n",
            "Epoch 5/5\n",
            "1088/1088 [==============================] - 1s 1ms/sample - loss: 5.0571 - acc: 0.3199 - val_loss: 214.6559 - val_acc: 0.1103\n"
          ]
        },
        {
          "output_type": "execute_result",
          "data": {
            "text/plain": [
              "<keras.callbacks.History at 0x7f0ab780b6d0>"
            ]
          },
          "metadata": {},
          "execution_count": 10
        }
      ]
    },
    {
      "cell_type": "code",
      "source": [],
      "metadata": {
        "id": "QJ6FKaDEzPay"
      },
      "execution_count": null,
      "outputs": []
    }
  ]
}